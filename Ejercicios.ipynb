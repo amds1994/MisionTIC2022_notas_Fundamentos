{
 "cells": [
  {
   "cell_type": "code",
   "execution_count": 1,
   "metadata": {},
   "outputs": [
    {
     "name": "stdout",
     "output_type": "stream",
     "text": [
      "5 1\n",
      "5 -3\n",
      "9 -5\n"
     ]
    }
   ],
   "source": [
    "# Encontrar el mayor y el menor de una lista\n",
    "def high_and_low(numbers):\n",
    "    numbers = numbers.split()\n",
    "    numbers = [int(i) for i in numbers]\n",
    "    return str(max(numbers)) + \" \" + str(min(numbers))\n",
    "    \n",
    "print(high_and_low(\"1 2 3 4 5\"))  # return \"5 1\"\n",
    "print(high_and_low(\"1 2 -3 4 5\")) # return \"5 -3\"\n",
    "print(high_and_low(\"1 9 3 4 -5\")) # return \"9 -5\""
   ]
  },
  {
   "cell_type": "code",
   "execution_count": null,
   "metadata": {},
   "outputs": [],
   "source": []
  }
 ],
 "metadata": {
  "interpreter": {
   "hash": "c633bc45050f04d0a863f1eb49133ff3951a161f9a9dc4eb5d88cacdc0832372"
  },
  "kernelspec": {
   "display_name": "Python 3.10.4 64-bit",
   "language": "python",
   "name": "python3"
  },
  "language_info": {
   "codemirror_mode": {
    "name": "ipython",
    "version": 3
   },
   "file_extension": ".py",
   "mimetype": "text/x-python",
   "name": "python",
   "nbconvert_exporter": "python",
   "pygments_lexer": "ipython3",
   "version": "3.10.4"
  },
  "orig_nbformat": 4
 },
 "nbformat": 4,
 "nbformat_minor": 2
}
